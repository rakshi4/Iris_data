{
 "cells": [
  {
   "cell_type": "code",
   "execution_count": null,
   "id": "1d675a93",
   "metadata": {},
   "outputs": [],
   "source": [
    "import pandas as pd\n",
    "import numpy as np\n",
    "import seaborn as sns\n",
    "import sklearn"
   ]
  },
  {
   "cell_type": "code",
   "execution_count": null,
   "id": "796696ac",
   "metadata": {},
   "outputs": [],
   "source": []
  },
  {
   "cell_type": "code",
   "execution_count": null,
   "id": "9579a0ee",
   "metadata": {},
   "outputs": [],
   "source": [
    "from sklearn.datasets import load_iris"
   ]
  },
  {
   "cell_type": "code",
   "execution_count": null,
   "id": "f32cbc2a",
   "metadata": {},
   "outputs": [],
   "source": [
    "iriss = load_iris()\n",
    "df_iris = pd.DataFrame(iriss.data, columns=iriss.feature_names)"
   ]
  },
  {
   "cell_type": "code",
   "execution_count": null,
   "id": "d74e4f9b",
   "metadata": {},
   "outputs": [],
   "source": [
    "df_iris.head()"
   ]
  },
  {
   "cell_type": "code",
   "execution_count": null,
   "id": "eb3d89a9",
   "metadata": {},
   "outputs": [],
   "source": [
    "df_iris.tail()"
   ]
  },
  {
   "cell_type": "code",
   "execution_count": null,
   "id": "cde16d67",
   "metadata": {},
   "outputs": [],
   "source": [
    "df_iris.dtypes"
   ]
  },
  {
   "cell_type": "code",
   "execution_count": null,
   "id": "f23e5143",
   "metadata": {},
   "outputs": [],
   "source": [
    "from pandas.plotting import scatter_matrix\n",
    "import matplotlib.pyplot as plt\n",
    "scatter_matrix(df_iris,figsize=(10,10))\n",
    "plt.show()"
   ]
  },
  {
   "cell_type": "code",
   "execution_count": null,
   "id": "93ca3b06",
   "metadata": {},
   "outputs": [],
   "source": [
    "import seaborn as sns \n",
    "sns.set(style=\"ticks\",color_codes = True)\n",
    "dfiris = sns.load_dataset(\"iris\")\n",
    "sns.pairplot(dfiris, hue=\"species\")"
   ]
  },
  {
   "cell_type": "code",
   "execution_count": null,
   "id": "40bbbc66",
   "metadata": {},
   "outputs": [],
   "source": [
    "import seaborn as sns \n",
    "sns.set(style=\"ticks\", color_codes = True)\n",
    "dfiris = sns.load_dataset(\"iris\")\n",
    "sns.pairplot(dfiris,hue = \"species\" , palette=\"husl\")"
   ]
  },
  {
   "cell_type": "code",
   "execution_count": null,
   "id": "de49bc35",
   "metadata": {},
   "outputs": [],
   "source": [
    "labels = np.asarray(dfiris.species)"
   ]
  },
  {
   "cell_type": "code",
   "execution_count": null,
   "id": "0848464a",
   "metadata": {},
   "outputs": [],
   "source": [
    "from sklearn.preprocessing import LabelEncode\n",
    "le = LableEncoder()\n",
    "le.fit(lables)\n",
    "lables = le.transform(labels)"
   ]
  },
  {
   "cell_type": "code",
   "execution_count": null,
   "id": "a2741c96",
   "metadata": {},
   "outputs": [],
   "source": [
    "df_selected1 = dfiris.drop(['sepal_length', 'sepal_width', \"species\"], axis=1)\n"
   ]
  },
  {
   "cell_type": "code",
   "execution_count": null,
   "id": "b9509703",
   "metadata": {},
   "outputs": [],
   "source": [
    "df_features = df_selected1.to_dict(orient='records')\n",
    "from sklearn.feature_extraction import DictVectorizer\n",
    "vec = DictVectorizer()\n",
    "features = vec.fit_transform(df_features).toarray()\n"
   ]
  },
  {
   "cell_type": "code",
   "execution_count": null,
   "id": "7eff3c12",
   "metadata": {},
   "outputs": [],
   "source": [
    "from sklearn.model_selection import train_test_split\n",
    "features_train, features_test, labels_train, labels_test = train_test_split(\n",
    "features, labels, test_size=0.20, random_state=0)"
   ]
  },
  {
   "cell_type": "code",
   "execution_count": null,
   "id": "78354416",
   "metadata": {},
   "outputs": [],
   "source": [
    "from sklearn.svm import SVC\n",
    "svm_model_linear = SVC(kernel = 'linear', C = 1).fit(features_train, labels_train)\n",
    "svm_predictions = svm_model_linear.predict(features_test)\n",
    "accuracy = svm_model_linear.score(features_test, labels_test)\n",
    "print(\"Test accuracy:\",accuracy)"
   ]
  },
  {
   "cell_type": "code",
   "execution_count": null,
   "id": "a4d54a81",
   "metadata": {},
   "outputs": [],
   "source": [
    "from sklearn.svm import SVC\n",
    "svm_model_linear = SVC(kernel = 'linear', C = 1).fit(features_train, labels_train)\n",
    "svm_predictions = svm_model_linear.predict(features_train)\n",
    "accuracy = svm_model_linear.score(features_train, labels_train)\n",
    "print(\"Train accuracy:\",accuracy)"
   ]
  },
  {
   "cell_type": "code",
   "execution_count": null,
   "id": "3b8a5677",
   "metadata": {},
   "outputs": [],
   "source": [
    "from sklearn.cluster import KMeans\n",
    "\n",
    "# Select features for clustering\n",
    "features = data[['Purchase Frequency', 'Average Order Value']]\n",
    "\n",
    "# KMeans clustering\n",
    "kmeans = KMeans(n_clusters=3)\n",
    "data['Cluster'] = kmeans.fit_predict(features)\n",
    "\n",
    "# Plot clusters\n",
    "sns.scatterplot(x='Purchase Frequency', y='Average Order Value', hue='Cluster', data=data)\n",
    "plt.title('Customer Segmentation')\n",
    "plt.show()\n"
   ]
  },
  {
   "cell_type": "code",
   "execution_count": null,
   "id": "e65fb4f9",
   "metadata": {},
   "outputs": [],
   "source": []
  }
 ],
 "metadata": {
  "kernelspec": {
   "display_name": "Python 3 (ipykernel)",
   "language": "python",
   "name": "python3"
  },
  "language_info": {
   "codemirror_mode": {
    "name": "ipython",
    "version": 3
   },
   "file_extension": ".py",
   "mimetype": "text/x-python",
   "name": "python",
   "nbconvert_exporter": "python",
   "pygments_lexer": "ipython3",
   "version": "3.9.13"
  }
 },
 "nbformat": 4,
 "nbformat_minor": 5
}
